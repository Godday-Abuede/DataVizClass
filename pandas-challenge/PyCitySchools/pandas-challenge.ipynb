{
 "cells": [
  {
   "cell_type": "code",
   "execution_count": null,
   "metadata": {},
   "outputs": [],
   "source": [
    "# Dependencie\n",
    "import pandas as pd\n",
    "import statistics as st"
   ]
  },
  {
   "cell_type": "code",
   "execution_count": null,
   "metadata": {},
   "outputs": [],
   "source": [
    "# files path\n",
    "sch = pd.read_csv(r\"C:\\Users\\abued\\git\\DataVizClass\\pandas-challenge\\PyCitySchools/schools_complete.csv\")\n",
    "std = pd.read_csv(r\"C:\\Users\\abued\\git\\DataVizClass\\pandas-challenge\\PyCitySchools/students_complete.csv\")"
   ]
  },
  {
   "cell_type": "code",
   "execution_count": null,
   "metadata": {},
   "outputs": [],
   "source": [
    "### District Summary\n",
    "# Create a high level snapshot (in table form) of the district's key metrics:\n",
    "def district_summary(x,y):\n",
    "    sch_ttl = x['school_name'].count()                          # Total Schools\n",
    "    std_ttl = x['size'].sum()                                   # Total Students\n",
    "    ttl_bdg = x['budget'].sum()                                 # Total Budget\n",
    "    av_math = y['math_score'].mean()                            # Average Math Score\n",
    "    av_read = y['reading_score'].mean()                         # Average Reading Score\n",
    "    nb_math = y['math_score'].count()                           # Total Math Students\n",
    "    nb_read = y['reading_score'].count()                        # Total Reading Students\n",
    "    \n",
    "    # Let's say the pass score is 70 and above, the number of Math and Reading with pass score:\n",
    "    ps_math = (y['math_score']>=70).sum()\n",
    "    ps_read = (y['reading_score']>=70).sum()\n",
    "    \n",
    "    # % of students passing Math and Reading:\n",
    "    pt_math = ps_math / nb_math * 100                           # % Passing Math\n",
    "    pt_read = ps_read / nb_read * 100                           # % Passing Reading\n",
    "    ov_pass = st.mean([pt_math, pt_read])                       # Overall Passing Rate (Average of the Math and Reading pass rat\n",
    "    \n",
    "    ## Create a high level snapshot (in table form) of the district's key metrics\n",
    "    # Create and iput the computed metrics into a dataframe:\n",
    "    df = pd.DataFrame([sch_ttl, std_ttl, ttl_bdg, \n",
    "                       f'{round(av_math,2)}', f'{round(av_read,2)}', \n",
    "                       f'{round(pt_math,2)}%', f'{round(pt_read,2)}%', \n",
    "                       f'{round(ov_pass,2)}%'], index=['Total Schools', \n",
    "                          'Total Students', 'Total Budget','Average Math Score', \n",
    "                          'Average Reading Score', '% Passing Math', \n",
    "                          '% Passing Reading', 'Overall Passing Rate'], \n",
    "    columns=['Key Metrics'])\n",
    "    print ('District Summary')\n",
    "    print ('-'*len('District Summary'))\n",
    "    return df\n",
    "\n",
    "### District Summary\n",
    "print(district_summary(sch,std))"
   ]
  },
  {
   "cell_type": "code",
   "execution_count": null,
   "metadata": {},
   "outputs": [],
   "source": [
    "### School Summary\n",
    "# Create an overview table that summarizes key metrics about each school:\n",
    "\n",
    "# Calculate PerStudentBudget by dividing individual school budget by its (student) size.:\n",
    "def per_std_bdgt(x,y):\n",
    "    return x/y\n",
    "\n",
    "def school_metrics(x):\n",
    "    group_name = std.groupby('school_name')\n",
    "    hs = group_name.get_group(x)\n",
    "    return hs\n",
    "    \n",
    "def avg_math_score(x):\n",
    "    hs = school_metrics(x)\n",
    "    hs_av_math = hs['math_score'].mean()                          # School Average Math Score\n",
    "    return round(hs_av_math,2)\n",
    "\n",
    "def avg_read_score(x):\n",
    "    hs = school_metrics(x)\n",
    "    hs_av_read = hs['reading_score'].mean()                       # School Average Reading Score\n",
    "    return round(hs_av_read,2)\n",
    "\n",
    "    # % of School students passing Math and Reading:\n",
    "    # Let's say the pass score is 70 and above, the number of Math and Reading with pass score:\n",
    "def pct_pass_math(x):\n",
    "    hs = school_metrics(x)    \n",
    "    hs_nb_math = hs['math_score'].count()                         # School Total Math Students\n",
    "    hs_ps_math = (hs['math_score']>=70).sum()\n",
    "    hs_pt_math = hs_ps_math / hs_nb_math * 100                    # % Passing Math\n",
    "    return round(hs_pt_math,2)\n",
    "\n",
    "def pct_pass_read(x):\n",
    "    hs = school_metrics(x)\n",
    "    hs_nb_read = hs['reading_score'].count()                      # School Total Reading Students\n",
    "    hs_ps_read = (hs['reading_score']>=70).sum()\n",
    "    hs_pt_read = hs_ps_read / hs_nb_read * 100                    # % Passing Reading\n",
    "    return round(hs_pt_read,2)\n",
    "    \n",
    "def over_pass_rate(x):\n",
    "    return st.mean([pct_pass_math(x), pct_pass_read(x)])          # Overall Passing Rate (Average of the Math and Reading pass rate)\n",
    "      \n",
    "### School Summary\n",
    "sch['Per Student Budget']=[per_std_bdgt(x,y) for x, y in zip(sch['budget'], \n",
    "   sch['size'])]\n",
    "sch['Average Math Score'] = [avg_math_score(x) for x in sch['school_name']]\n",
    "sch['Average Readind Score'] = [avg_read_score(x) for x in sch['school_name']]\n",
    "sch['% Passing Math'] = [f'{pct_pass_math(x)}%' for x in sch['school_name']]\n",
    "sch['% Passing Reading'] = [f'{pct_pass_read(x)}%' for x in sch['school_name']]\n",
    "sch['Overall Passing Rate'] = [over_pass_rate(x) for x in sch['school_name']]\n",
    "    \n",
    "print ('School Summary')\n",
    "print ('-'*len('School Summary'))\n",
    "print (sch.drop(['School ID'], axis=1).set_index('school_name'))"
   ]
  },
  {
   "cell_type": "code",
   "execution_count": null,
   "metadata": {},
   "outputs": [],
   "source": [
    "### Top Performing Schools (By Passing Rate)\n",
    "# Create a table that highlights the top 5 performing schools based on Overall Passing Rate.\n",
    "nnn = sch.drop(['School ID'], axis=1).set_index('school_name')\n",
    "print ('Top Performing Schools (By Passing Rate)')\n",
    "print ('-'*len('Top Performing Schools (By Passing Rate)'))\n",
    "print (nnn.sort_values(by=['Overall Passing Rate'], ascending=False).head(5))"
   ]
  },
  {
   "cell_type": "code",
   "execution_count": null,
   "metadata": {},
   "outputs": [],
   "source": [
    "### Bottom Performing Schools (By Passing Rate)\n",
    "# Create a table that highlights the bottom 5 performing schools based on Overall Passing Rate. \n",
    "nnn = sch.drop(['School ID'], axis=1).set_index('school_name')\n",
    "print ('Bottom Performing Schools (By Passing Rate)')\n",
    "print ('-'*len('Bottom Performing Schools (By Passing Rate)'))\n",
    "print (nnn.sort_values(by=['Overall Passing Rate'], ascending=True).head(5))"
   ]
  },
  {
   "cell_type": "code",
   "execution_count": null,
   "metadata": {},
   "outputs": [],
   "source": [
    "### Math Scores by Grade\n",
    "# Create a table that lists the average Math Score for students of each grade level (9th, 10th, 11th, 12th) at each school.\n",
    "mgs = std.groupby(['grade','school_name'])['math_score']\n",
    "avg_mgs = pd.DataFrame(round(mgs.mean(),2))\n",
    "mg = pd.concat([avg_mgs.loc['9th'], avg_mgs.loc['10th'], avg_mgs.loc['11th'], \n",
    "                avg_mgs.loc['12th']], axis=1, keys=['9th grade','10th grade',\n",
    "                           '11th grade','12th grade'])\n",
    "print ('Math Scores by Grade')\n",
    "print ('-'*len('Math Scores by Grade'))      \n",
    "print (mg)"
   ]
  },
  {
   "cell_type": "code",
   "execution_count": null,
   "metadata": {},
   "outputs": [],
   "source": [
    "### Reading Scores by Grade\n",
    "# Create a table that lists the average Reading Score for students of each grade level (9th, 10th, 11th, 12th) at each school\n",
    "rgs = std.groupby(['grade','school_name'])['reading_score']\n",
    "avg_rgs = pd.DataFrame(round(rgs.mean(),2))\n",
    "rg = pd.concat([avg_rgs.loc['9th'], avg_rgs.loc['10th'], avg_rgs.loc['11th'], \n",
    "                avg_rgs.loc['12th']], axis=1, keys=['9th grade','10th grade',\n",
    "                           '11th grade','12th grade'])\n",
    "print ('Reading Scores by Grade')\n",
    "print ('-'*len('Reading Scores by Grade'))       \n",
    "print (rg)"
   ]
  },
  {
   "cell_type": "code",
   "execution_count": null,
   "metadata": {},
   "outputs": [],
   "source": []
  }
 ],
 "metadata": {
  "kernelspec": {
   "display_name": "Python 3",
   "language": "python",
   "name": "python3"
  },
  "language_info": {
   "codemirror_mode": {
    "name": "ipython",
    "version": 3
   },
   "file_extension": ".py",
   "mimetype": "text/x-python",
   "name": "python",
   "nbconvert_exporter": "python",
   "pygments_lexer": "ipython3",
   "version": "3.7.4"
  }
 },
 "nbformat": 4,
 "nbformat_minor": 2
}
