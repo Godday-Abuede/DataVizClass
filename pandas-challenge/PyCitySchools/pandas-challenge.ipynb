{
 "cells": [
  {
   "cell_type": "code",
   "execution_count": 1,
   "metadata": {},
   "outputs": [],
   "source": [
    "# Dependencie\n",
    "import pandas as pd\n",
    "import statistics as st\n",
    "\n"
   ]
  },
  {
   "cell_type": "code",
   "execution_count": 2,
   "metadata": {},
   "outputs": [],
   "source": [
    "# files path\n",
    "# files path\n",
    "sch = pd.read_csv(r\"C:\\Users\\abued\\git\\DataVizClass\\pandas-challenge\\PyCitySchools/schools_complete.csv\")\n",
    "std = pd.read_csv(r\"C:\\Users\\abued\\git\\DataVizClass\\pandas-challenge\\PyCitySchools/students_complete.csv\")"
   ]
  },
  {
   "cell_type": "code",
   "execution_count": 3,
   "metadata": {},
   "outputs": [
    {
     "name": "stdout",
     "output_type": "stream",
     "text": [
      "District Summary\n",
      "----------------\n",
      "                      Key Metrics\n",
      "Total Schools                  15\n",
      "Total Students              39170\n",
      "Total Budget             24649428\n",
      "Average Math Score          78.99\n",
      "Average Reading Score       81.88\n",
      "% Passing Math             74.98%\n",
      "% Passing Reading          85.81%\n",
      "Overall Passing Rate       80.39%\n"
     ]
    }
   ],
   "source": [
    "### District Summary\n",
    "# Create a high level snapshot (in table form) of the district's key metrics:\n",
    "def district_summary(x,y):\n",
    "    sch_ttl = x['school_name'].count()                          # Total Schools\n",
    "    std_ttl = x['size'].sum()                                   # Total Students\n",
    "    ttl_bdg = x['budget'].sum()                                 # Total Budget\n",
    "    av_math = y['math_score'].mean()                            # Average Math Score\n",
    "    av_read = y['reading_score'].mean()                         # Average Reading Score\n",
    "    nb_math = y['math_score'].count()                           # Total Math Students\n",
    "    nb_read = y['reading_score'].count()                        # Total Reading Students\n",
    "    \n",
    "    # Let's say the pass score is 70 and above, the number of Math and Reading with pass score:\n",
    "    ps_math = (y['math_score']>=70).sum()\n",
    "    ps_read = (y['reading_score']>=70).sum()\n",
    "    \n",
    "    # % of students passing Math and Reading:\n",
    "    pt_math = ps_math / nb_math * 100                           # % Passing Math\n",
    "    pt_read = ps_read / nb_read * 100                           # % Passing Reading\n",
    "    ov_pass = st.mean([pt_math, pt_read])                       # Overall Passing Rate (Average of the Math and Reading pass rat\n",
    "    \n",
    "    ## Create a high level snapshot (in table form) of the district's key metrics\n",
    "    # Create and iput the computed metrics into a dataframe:\n",
    "    df = pd.DataFrame([sch_ttl, std_ttl, ttl_bdg, \n",
    "                       f'{round(av_math,2)}', f'{round(av_read,2)}', \n",
    "                       f'{round(pt_math,2)}%', f'{round(pt_read,2)}%', \n",
    "                       f'{round(ov_pass,2)}%'], index=['Total Schools', \n",
    "                          'Total Students', 'Total Budget','Average Math Score', \n",
    "                          'Average Reading Score', '% Passing Math', \n",
    "                          '% Passing Reading', 'Overall Passing Rate'], \n",
    "    columns=['Key Metrics'])\n",
    "    print ('District Summary')\n",
    "    print ('-'*len('District Summary'))\n",
    "    return df\n",
    "\n",
    "### District Summary\n",
    "print(district_summary(sch,std))"
   ]
  },
  {
   "cell_type": "code",
   "execution_count": 4,
   "metadata": {},
   "outputs": [
    {
     "name": "stdout",
     "output_type": "stream",
     "text": [
      "School Summary\n",
      "--------------\n",
      "                           type  size   budget  Per Student Budget  \\\n",
      "school_name                                                          \n",
      "Huang High School      District  2917  1910635               655.0   \n",
      "Figueroa High School   District  2949  1884411               639.0   \n",
      "Shelton High School     Charter  1761  1056600               600.0   \n",
      "Hernandez High School  District  4635  3022020               652.0   \n",
      "Griffin High School     Charter  1468   917500               625.0   \n",
      "Wilson High School      Charter  2283  1319574               578.0   \n",
      "Cabrera High School     Charter  1858  1081356               582.0   \n",
      "Bailey High School     District  4976  3124928               628.0   \n",
      "Holden High School      Charter   427   248087               581.0   \n",
      "Pena High School        Charter   962   585858               609.0   \n",
      "Wright High School      Charter  1800  1049400               583.0   \n",
      "Rodriguez High School  District  3999  2547363               637.0   \n",
      "Johnson High School    District  4761  3094650               650.0   \n",
      "Ford High School       District  2739  1763916               644.0   \n",
      "Thomas High School      Charter  1635  1043130               638.0   \n",
      "\n",
      "                       Average Math Score  Average Readind Score  \\\n",
      "school_name                                                        \n",
      "Huang High School                   76.63                  81.18   \n",
      "Figueroa High School                76.71                  81.16   \n",
      "Shelton High School                 83.36                  83.73   \n",
      "Hernandez High School               77.29                  80.93   \n",
      "Griffin High School                 83.35                  83.82   \n",
      "Wilson High School                  83.27                  83.99   \n",
      "Cabrera High School                 83.06                  83.98   \n",
      "Bailey High School                  77.05                  81.03   \n",
      "Holden High School                  83.80                  83.81   \n",
      "Pena High School                    83.84                  84.04   \n",
      "Wright High School                  83.68                  83.95   \n",
      "Rodriguez High School               76.84                  80.74   \n",
      "Johnson High School                 77.07                  80.97   \n",
      "Ford High School                    77.10                  80.75   \n",
      "Thomas High School                  83.42                  83.85   \n",
      "\n",
      "                      % Passing Math % Passing Reading  Overall Passing Rate  \n",
      "school_name                                                                   \n",
      "Huang High School             65.68%            81.32%                73.500  \n",
      "Figueroa High School          65.99%            80.74%                73.365  \n",
      "Shelton High School           93.87%            95.85%                94.860  \n",
      "Hernandez High School         66.75%            80.86%                73.805  \n",
      "Griffin High School           93.39%            97.14%                95.265  \n",
      "Wilson High School            93.87%            96.54%                95.205  \n",
      "Cabrera High School           94.13%            97.04%                95.585  \n",
      "Bailey High School            66.68%            81.93%                74.305  \n",
      "Holden High School            92.51%            96.25%                94.380  \n",
      "Pena High School              94.59%            95.95%                95.270  \n",
      "Wright High School            93.33%            96.61%                94.970  \n",
      "Rodriguez High School         66.37%            80.22%                73.295  \n",
      "Johnson High School           66.06%            81.22%                73.640  \n",
      "Ford High School              68.31%             79.3%                73.805  \n",
      "Thomas High School            93.27%            97.31%                95.290  \n"
     ]
    }
   ],
   "source": [
    "# Create an overview table that summarizes key metrics about each school:\n",
    "\n",
    "# Calculate PerStudentBudget by dividing individual school budget by its (student) size.:\n",
    "def per_std_bdgt(x,y):\n",
    "    return x/y\n",
    "\n",
    "def school_metrics(x):\n",
    "    group_name = std.groupby('school_name')\n",
    "    hs = group_name.get_group(x)\n",
    "    return hs\n",
    "    \n",
    "def avg_math_score(x):\n",
    "    hs = school_metrics(x)\n",
    "    hs_av_math = hs['math_score'].mean()                          # School Average Math Score\n",
    "    return round(hs_av_math,2)\n",
    "\n",
    "def avg_read_score(x):\n",
    "    hs = school_metrics(x)\n",
    "    hs_av_read = hs['reading_score'].mean()                       # School Average Reading Score\n",
    "    return round(hs_av_read,2)\n",
    "\n",
    "    # % of School students passing Math and Reading:\n",
    "    # Let's say the pass score is 70 and above, the number of Math and Reading with pass score:\n",
    "def pct_pass_math(x):\n",
    "    hs = school_metrics(x)    \n",
    "    hs_nb_math = hs['math_score'].count()                         # School Total Math Students\n",
    "    hs_ps_math = (hs['math_score']>=70).sum()\n",
    "    hs_pt_math = hs_ps_math / hs_nb_math * 100                    # % Passing Math\n",
    "    return round(hs_pt_math,2)\n",
    "def pct_pass_read(x):\n",
    "    hs = school_metrics(x)\n",
    "    hs_nb_read = hs['reading_score'].count()                      # School Total Reading Students\n",
    "    hs_ps_read = (hs['reading_score']>=70).sum()\n",
    "    hs_pt_read = hs_ps_read / hs_nb_read * 100                    # % Passing Reading\n",
    "    return round(hs_pt_read,2)\n",
    "    \n",
    "def over_pass_rate(x):\n",
    "    return st.mean([pct_pass_math(x), pct_pass_read(x)])          # Overall Passing Rate (Average of the Math and Reading pass rate)\n",
    "      \n",
    "### School Summary\n",
    "sch['Per Student Budget']=[per_std_bdgt(x,y) for x, y in zip(sch['budget'], \n",
    "   sch['size'])]\n",
    "sch['Average Math Score'] = [avg_math_score(x) for x in sch['school_name']]\n",
    "sch['Average Readind Score'] = [avg_read_score(x) for x in sch['school_name']]\n",
    "sch['% Passing Math'] = [f'{pct_pass_math(x)}%' for x in sch['school_name']]\n",
    "sch['% Passing Reading'] = [f'{pct_pass_read(x)}%' for x in sch['school_name']]\n",
    "sch['Overall Passing Rate'] = [over_pass_rate(x) for x in sch['school_name']]\n",
    "    \n",
    "print ('School Summary')\n",
    "print ('-'*len('School Summary'))\n",
    "print (sch.drop(['School ID'], axis=1).set_index('school_name'))"
   ]
  },
  {
   "cell_type": "code",
   "execution_count": 5,
   "metadata": {},
   "outputs": [
    {
     "name": "stdout",
     "output_type": "stream",
     "text": [
      "Top Performing Schools (By Passing Rate)\n",
      "----------------------------------------\n",
      "                        type  size   budget  Per Student Budget  \\\n",
      "school_name                                                       \n",
      "Cabrera High School  Charter  1858  1081356               582.0   \n",
      "Thomas High School   Charter  1635  1043130               638.0   \n",
      "Pena High School     Charter   962   585858               609.0   \n",
      "Griffin High School  Charter  1468   917500               625.0   \n",
      "Wilson High School   Charter  2283  1319574               578.0   \n",
      "\n",
      "                     Average Math Score  Average Readind Score % Passing Math  \\\n",
      "school_name                                                                     \n",
      "Cabrera High School               83.06                  83.98         94.13%   \n",
      "Thomas High School                83.42                  83.85         93.27%   \n",
      "Pena High School                  83.84                  84.04         94.59%   \n",
      "Griffin High School               83.35                  83.82         93.39%   \n",
      "Wilson High School                83.27                  83.99         93.87%   \n",
      "\n",
      "                    % Passing Reading  Overall Passing Rate  \n",
      "school_name                                                  \n",
      "Cabrera High School            97.04%                95.585  \n",
      "Thomas High School             97.31%                95.290  \n",
      "Pena High School               95.95%                95.270  \n",
      "Griffin High School            97.14%                95.265  \n",
      "Wilson High School             96.54%                95.205  \n"
     ]
    }
   ],
   "source": [
    "### Top Performing Schools (By Passing Rate)\n",
    "# Create a table that highlights the top 5 performing schools based on Overall Passing Rate.\n",
    "nnn = sch.drop(['School ID'], axis=1).set_index('school_name')\n",
    "print ('Top Performing Schools (By Passing Rate)')\n",
    "print ('-'*len('Top Performing Schools (By Passing Rate)'))\n",
    "print (nnn.sort_values(by=['Overall Passing Rate'], ascending=False).head(5))"
   ]
  },
  {
   "cell_type": "code",
   "execution_count": 6,
   "metadata": {},
   "outputs": [
    {
     "name": "stdout",
     "output_type": "stream",
     "text": [
      "Bottom Performing Schools (By Passing Rate)\n",
      "-------------------------------------------\n",
      "                           type  size   budget  Per Student Budget  \\\n",
      "school_name                                                          \n",
      "Rodriguez High School  District  3999  2547363               637.0   \n",
      "Figueroa High School   District  2949  1884411               639.0   \n",
      "Huang High School      District  2917  1910635               655.0   \n",
      "Johnson High School    District  4761  3094650               650.0   \n",
      "Hernandez High School  District  4635  3022020               652.0   \n",
      "\n",
      "                       Average Math Score  Average Readind Score  \\\n",
      "school_name                                                        \n",
      "Rodriguez High School               76.84                  80.74   \n",
      "Figueroa High School                76.71                  81.16   \n",
      "Huang High School                   76.63                  81.18   \n",
      "Johnson High School                 77.07                  80.97   \n",
      "Hernandez High School               77.29                  80.93   \n",
      "\n",
      "                      % Passing Math % Passing Reading  Overall Passing Rate  \n",
      "school_name                                                                   \n",
      "Rodriguez High School         66.37%            80.22%                73.295  \n",
      "Figueroa High School          65.99%            80.74%                73.365  \n",
      "Huang High School             65.68%            81.32%                73.500  \n",
      "Johnson High School           66.06%            81.22%                73.640  \n",
      "Hernandez High School         66.75%            80.86%                73.805  \n"
     ]
    }
   ],
   "source": [
    "### Bottom Performing Schools (By Passing Rate)\n",
    "# Create a table that highlights the bottom 5 performing schools based on Overall Passing Rate. \n",
    "nnn = sch.drop(['School ID'], axis=1).set_index('school_name')\n",
    "print ('Bottom Performing Schools (By Passing Rate)')\n",
    "print ('-'*len('Bottom Performing Schools (By Passing Rate)'))\n",
    "print (nnn.sort_values(by=['Overall Passing Rate'], ascending=True).head(5))"
   ]
  },
  {
   "cell_type": "code",
   "execution_count": 7,
   "metadata": {},
   "outputs": [
    {
     "name": "stdout",
     "output_type": "stream",
     "text": [
      "Math Scores by Grade\n",
      "--------------------\n",
      "                       9th grade 10th grade 11th grade 12th grade\n",
      "                      math_score math_score math_score math_score\n",
      "school_name                                                      \n",
      "Bailey High School         77.08      77.00      77.52      76.49\n",
      "Cabrera High School        83.09      83.15      82.77      83.28\n",
      "Figueroa High School       76.40      76.54      76.88      77.15\n",
      "Ford High School           77.36      77.67      76.92      76.18\n",
      "Griffin High School        82.04      84.23      83.84      83.36\n",
      "Hernandez High School      77.44      77.34      77.14      77.19\n",
      "Holden High School         83.79      83.43      85.00      82.86\n",
      "Huang High School          77.03      75.91      76.45      77.23\n",
      "Johnson High School        77.19      76.69      77.49      76.86\n",
      "Pena High School           83.63      83.37      84.33      84.12\n",
      "Rodriguez High School      76.86      76.61      76.40      77.69\n",
      "Shelton High School        83.42      82.92      83.38      83.78\n",
      "Thomas High School         83.59      83.09      83.50      83.50\n",
      "Wilson High School         83.09      83.72      83.20      83.04\n",
      "Wright High School         83.26      84.01      83.84      83.64\n"
     ]
    }
   ],
   "source": [
    "### Math Scores by Grade\n",
    "# Create a table that lists the average Math Score for students of each grade level (9th, 10th, 11th, 12th) at each school.\n",
    "mgs = std.groupby(['grade','school_name'])['math_score']\n",
    "avg_mgs = pd.DataFrame(round(mgs.mean(),2))\n",
    "mg = pd.concat([avg_mgs.loc['9th'], avg_mgs.loc['10th'], avg_mgs.loc['11th'], \n",
    "                avg_mgs.loc['12th']], axis=1, keys=['9th grade','10th grade',\n",
    "                           '11th grade','12th grade'])\n",
    "print ('Math Scores by Grade')\n",
    "print ('-'*len('Math Scores by Grade'))      \n",
    "print (mg)"
   ]
  },
  {
   "cell_type": "code",
   "execution_count": 8,
   "metadata": {},
   "outputs": [
    {
     "name": "stdout",
     "output_type": "stream",
     "text": [
      "Reading Scores by Grade\n",
      "-----------------------\n",
      "                          9th grade    10th grade    11th grade    12th grade\n",
      "                      reading_score reading_score reading_score reading_score\n",
      "school_name                                                                  \n",
      "Bailey High School            81.30         80.91         80.95         80.91\n",
      "Cabrera High School           83.68         84.25         83.79         84.29\n",
      "Figueroa High School          81.20         81.41         80.64         81.38\n",
      "Ford High School              80.63         81.26         80.40         80.66\n",
      "Griffin High School           83.37         83.71         84.29         84.01\n",
      "Hernandez High School         80.87         80.66         81.40         80.86\n",
      "Holden High School            83.68         83.32         83.82         84.70\n",
      "Huang High School             81.29         81.51         81.42         80.31\n",
      "Johnson High School           81.26         80.77         80.62         81.23\n",
      "Pena High School              83.81         83.61         84.34         84.59\n",
      "Rodriguez High School         80.99         80.63         80.86         80.38\n",
      "Shelton High School           84.12         83.44         84.37         82.78\n",
      "Thomas High School            83.73         84.25         83.59         83.83\n",
      "Wilson High School            83.94         84.02         83.76         84.32\n",
      "Wright High School            83.83         83.81         84.16         84.07\n"
     ]
    }
   ],
   "source": [
    "### Reading Scores by Grade\n",
    "# Create a table that lists the average Reading Score for students of each grade level (9th, 10th, 11th, 12th) at each school\n",
    "rgs = std.groupby(['grade','school_name'])['reading_score']\n",
    "avg_rgs = pd.DataFrame(round(rgs.mean(),2))\n",
    "rg = pd.concat([avg_rgs.loc['9th'], avg_rgs.loc['10th'], avg_rgs.loc['11th'], \n",
    "                avg_rgs.loc['12th']], axis=1, keys=['9th grade','10th grade',\n",
    "                           '11th grade','12th grade'])\n",
    "print ('Reading Scores by Grade')\n",
    "print ('-'*len('Reading Scores by Grade'))       \n",
    "print (rg)"
   ]
  },
  {
   "cell_type": "code",
   "execution_count": null,
   "metadata": {},
   "outputs": [],
   "source": []
  },
  {
   "cell_type": "code",
   "execution_count": null,
   "metadata": {},
   "outputs": [],
   "source": []
  }
 ],
 "metadata": {
  "kernelspec": {
   "display_name": "Python 3",
   "language": "python",
   "name": "python3"
  },
  "language_info": {
   "codemirror_mode": {
    "name": "ipython",
    "version": 3
   },
   "file_extension": ".py",
   "mimetype": "text/x-python",
   "name": "python",
   "nbconvert_exporter": "python",
   "pygments_lexer": "ipython3",
   "version": "3.7.4"
  }
 },
 "nbformat": 4,
 "nbformat_minor": 2
}
